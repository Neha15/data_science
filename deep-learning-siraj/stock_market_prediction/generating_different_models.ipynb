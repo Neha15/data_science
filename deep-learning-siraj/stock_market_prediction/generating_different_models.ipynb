{
 "cells": [
  {
   "cell_type": "code",
   "execution_count": null,
   "metadata": {
    "collapsed": true
   },
   "outputs": [],
   "source": [
    "# https://github.com/llSourcell/Stock_Market_Prediction\n",
    "# https://www.youtube.com/watch?v=JuLCL3wCEAk\n",
    "import numpy as np\n",
    "import pandas as pd\n",
    "from nltk.classify import NaiveBayesClassifier\n",
    "from nltk.corpus import subjectivity\n",
    "from nltk.sentiment import SentimentAnalyzer\n",
    "from nltk.sentiment.util import *"
   ]
  },
  {
   "cell_type": "code",
   "execution_count": null,
   "metadata": {
    "collapsed": true
   },
   "outputs": [],
   "source": [
    "df_stocks = pd.read_pickle('Data/pickled_ten_year_filtered_data.pkl')"
   ]
  },
  {
   "cell_type": "code",
   "execution_count": null,
   "metadata": {},
   "outputs": [],
   "source": [
    "import os\n",
    "cwd = os.getcwd()\n",
    "print(cwd)"
   ]
  },
  {
   "cell_type": "code",
   "execution_count": null,
   "metadata": {},
   "outputs": [],
   "source": [
    "df_stocks"
   ]
  },
  {
   "cell_type": "code",
   "execution_count": null,
   "metadata": {
    "collapsed": true
   },
   "outputs": [],
   "source": [
    "df_stocks['prices'] = df_stocks['adj close'].apply(np.int64)\n",
    "df_stocks = df_stocks[['prices', 'articles']]\n"
   ]
  },
  {
   "cell_type": "code",
   "execution_count": null,
   "metadata": {},
   "outputs": [],
   "source": [
    "df_stocks['articles'] = df_stocks['articles'].map(lambda x: x.lstrip('.-'))\n",
    "df_stocks"
   ]
  },
  {
   "cell_type": "code",
   "execution_count": null,
   "metadata": {},
   "outputs": [],
   "source": [
    "df = df_stocks[['prices']].copy()\n",
    "df"
   ]
  },
  {
   "cell_type": "code",
   "execution_count": null,
   "metadata": {
    "collapsed": true
   },
   "outputs": [],
   "source": [
    "#nltk.download()"
   ]
  },
  {
   "cell_type": "code",
   "execution_count": null,
   "metadata": {
    "collapsed": true
   },
   "outputs": [],
   "source": [
    "df[\"compound\"] = ''\n",
    "df[\"neg\"] = ''\n",
    "df[\"neu\"] = ''\n",
    "df[\"pos\"] = ''"
   ]
  },
  {
   "cell_type": "code",
   "execution_count": null,
   "metadata": {
    "collapsed": true
   },
   "outputs": [],
   "source": [
    "from nltk.sentiment.vader import SentimentIntensityAnalyzer\n",
    "import unicodedata\n",
    "sid = SentimentIntensityAnalyzer()\n",
    "for date, row in df_stocks.T.iteritems():\n",
    "    try:\n",
    "        sentence = unicodedata.normalize('NFKD', df_stocks.loc[date, 'articles']).encode('ascii', 'ignore')\n",
    "        ss = sid.polarity_scores(sentence)\n",
    "        df.set_value(date, 'compound', ss['compound'])\n",
    "        df.set_value(date, 'neg', ss['neg'])\n",
    "        df.set_value(date, 'neu', ss['neu'])\n",
    "        df.set_value(date, 'pos', ss['pos'])\n",
    "    except TypeError:\n",
    "        print df_stocks.loc[date, 'articles']\n",
    "        print date"
   ]
  },
  {
   "cell_type": "code",
   "execution_count": null,
   "metadata": {},
   "outputs": [],
   "source": [
    "df"
   ]
  },
  {
   "cell_type": "code",
   "execution_count": null,
   "metadata": {
    "collapsed": true
   },
   "outputs": [],
   "source": [
    "\n",
    "train_start_date = '2007-01-01'\n",
    "train_end_date = '2007-12-31'\n",
    "test_start_date = '2015-01-01'\n",
    "test_end_date = '2016-12-31'\n",
    "train = df.loc[train_start_date: train_end_date]\n",
    "test = df.loc[test_start_date: test_end_date]"
   ]
  },
  {
   "cell_type": "code",
   "execution_count": null,
   "metadata": {
    "collapsed": true
   },
   "outputs": [],
   "source": [
    "sentiment_score_list = []\n",
    "for date, row in train.T.iteritems():\n",
    "    sentiment_score = np.asarray([df.loc[date, 'neg'], df.loc[date, 'pos']])\n",
    "    sentiment_score_list.append(sentiment_score)\n",
    "numpy_df_train = np.asarray(sentiment_score_list)"
   ]
  },
  {
   "cell_type": "code",
   "execution_count": null,
   "metadata": {
    "collapsed": true
   },
   "outputs": [],
   "source": [
    "sentiment_score_list = []\n",
    "for date, row in test.T.iteritems():\n",
    "    sentiment_score = np.asarray([df.loc[date, 'neg'], df.loc[date, 'pos']])\n",
    "    sentiment_score_list.append(sentiment_score)\n",
    "numpy_df_test = np.asarray(sentiment_score_list)"
   ]
  },
  {
   "cell_type": "code",
   "execution_count": null,
   "metadata": {
    "collapsed": true
   },
   "outputs": [],
   "source": [
    "y_train = pd.DataFrame(train['prices'])\n",
    "y_test = pd.DataFrame(test['prices'])"
   ]
  },
  {
   "cell_type": "code",
   "execution_count": null,
   "metadata": {},
   "outputs": [],
   "source": [
    "from treeinterpreter import treeinterpreter as ti\n",
    "from sklearn.tree import DecisionTreeRegressor\n",
    "from sklearn.ensemble import RandomForestRegressor\n",
    "from sklearn.metrics import classification_report, confusion_matrix\n",
    "\n",
    "rf = RandomForestRegressor()\n",
    "rf.fit(numpy_df_train, y_train)"
   ]
  },
  {
   "cell_type": "code",
   "execution_count": null,
   "metadata": {},
   "outputs": [],
   "source": [
    "print rf.feature_importances_"
   ]
  },
  {
   "cell_type": "code",
   "execution_count": null,
   "metadata": {
    "collapsed": true
   },
   "outputs": [],
   "source": [
    "prediction, bias, contributions = ti.predict(rf, numpy_df_test)"
   ]
  },
  {
   "cell_type": "code",
   "execution_count": null,
   "metadata": {},
   "outputs": [],
   "source": [
    "prediction"
   ]
  },
  {
   "cell_type": "code",
   "execution_count": null,
   "metadata": {},
   "outputs": [],
   "source": [
    "contributions"
   ]
  },
  {
   "cell_type": "code",
   "execution_count": null,
   "metadata": {
    "collapsed": true
   },
   "outputs": [],
   "source": [
    "import matplotlib.pyplot as plt\n",
    "%matplotlib inline"
   ]
  },
  {
   "cell_type": "code",
   "execution_count": null,
   "metadata": {
    "collapsed": true
   },
   "outputs": [],
   "source": [
    "idx = pd.date_range(test_start_date, test_end_date)\n",
    "predictions_df = pd.DataFrame(data=prediction[0:], index=idx, columns=['prices'])"
   ]
  },
  {
   "cell_type": "code",
   "execution_count": null,
   "metadata": {
    "collapsed": true
   },
   "outputs": [],
   "source": [
    "#predictions_df['predicted'] = predictions_df['prices']\n",
    "#predictions_df = predictions_df[['predicted']]"
   ]
  },
  {
   "cell_type": "code",
   "execution_count": null,
   "metadata": {},
   "outputs": [],
   "source": [
    "predictions_plot = predictions_df.plot()\n",
    "\n",
    "fig = y_test.plot(ax = predictions_plot).get_figure()\n",
    "#fig.savefig(\"graphs/random_forest_without_smoothing.png\")"
   ]
  },
  {
   "cell_type": "code",
   "execution_count": null,
   "metadata": {},
   "outputs": [],
   "source": [
    "ax = predictions_df.rename(columns={\"predicted\": \"predicted_price\"}).plot(title='Random Forest predicted Prices 8-2 Years')\n",
    "ax.set_xlabel(\"Dates\")\n",
    "ax.set_ylabel(\"Stock Prices\")\n",
    "fig = y_test.rename(columns={\"prices\": \"actual_price\"}).plot(ax=ax).get_figure()\n"
   ]
  },
  {
   "cell_type": "code",
   "execution_count": null,
   "metadata": {},
   "outputs": [],
   "source": [
    "test"
   ]
  },
  {
   "cell_type": "code",
   "execution_count": null,
   "metadata": {},
   "outputs": [],
   "source": [
    "from datetime import datetime, timedelta\n",
    "temp_date = test_start_date\n",
    "average_last_5_days_test = 0\n",
    "total_days = 10\n",
    "for i in range(total_days):\n",
    "    average_last_5_days_test += test.loc[temp_date, 'prices']\n",
    "    # Converting string to date time\n",
    "    temp_date = datetime.strptime(temp_date, \"%Y-%m-%d\").date()\n",
    "    # Reducing one day from date time\n",
    "    difference = temp_date + timedelta(days=1)\n",
    "    # Converting again date time to string\n",
    "    temp_date = difference.strftime(\"%Y-%m-%d\")\n",
    "    \n",
    "average_last_5_days_test = average_last_5_days_test / total_days\n",
    "print average_last_5_days_test\n",
    "\n",
    "temp_date = test_start_date\n",
    "average_upcoming_5_days_predicted = 0\n",
    "\n",
    "for i in range(total_days):\n",
    "    average_upcoming_5_days_predicted += predictions_df.loc[temp_date, 'prices']\n",
    "    temp_date =datetime.strptime(temp_date, \"%Y-%m-%d\").date()\n",
    "    difference = temp_date + timedelta(days=1)\n",
    "    temp_date = difference.strftime('%Y-%m-%d')\n",
    "    print temp_date\n",
    "    \n",
    "average_upcoming_5_days_predicted = average_upcoming_5_days_predicted / total_days\n",
    "print average_upcoming_5_days_predicted\n",
    "difference_test_predicted_prices = average_last_5_days_test - average_upcoming_5_days_predicted\n",
    "print difference_test_predicted_prices\n",
    "\n",
    "\n",
    "    "
   ]
  },
  {
   "cell_type": "code",
   "execution_count": null,
   "metadata": {
    "collapsed": true
   },
   "outputs": [],
   "source": [
    "predictions_df['prices'] = predictions_df['prices'] + difference_test_predicted_prices\n",
    "predictions_df = predictions_df[['prices']]"
   ]
  },
  {
   "cell_type": "code",
   "execution_count": null,
   "metadata": {},
   "outputs": [],
   "source": [
    "ax = predictions_df.rename(columns={\"prices\": \"predicted_price\"}).plot(title='Random Forest predicted prices 8-2 years after aligning')\n",
    "ax.set_xlabel(\"Dates\")\n",
    "ax.set_ylabel(\"Stock Prices\")\n",
    "fig = y_test.rename(columns = {\"prices\": \"actual_price\"}).plot(ax=ax).get_figure()\n"
   ]
  },
  {
   "cell_type": "code",
   "execution_count": null,
   "metadata": {},
   "outputs": [],
   "source": [
    "predictions_df['ewma'] = pd.ewma(predictions_df[\"prices\"], span=60, freq=\"D\")"
   ]
  },
  {
   "cell_type": "code",
   "execution_count": null,
   "metadata": {},
   "outputs": [],
   "source": [
    "predictions_df['actual_value'] = test['prices']\n",
    "predictions_df['actual_value_ewma'] = pd.ewma(predictions_df[\"actual_value\"], span=60, freq=\"D\")\n",
    "predictions_df"
   ]
  },
  {
   "cell_type": "code",
   "execution_count": null,
   "metadata": {
    "collapsed": true
   },
   "outputs": [],
   "source": [
    "predictions_df.columns = ['predicted_price', 'average_predicted_price', 'actual_price', 'average_actual_price']"
   ]
  },
  {
   "cell_type": "code",
   "execution_count": null,
   "metadata": {},
   "outputs": [],
   "source": [
    "predictions_plot = predictions_df.plot(title='Random Forest predicted prices 8-2 years after aligning & smoothing')\n",
    "predictions_plot.set_xlabel(\"Dates\")\n",
    "predictions_plot.set_ylabel(\"Stock Prices\")\n",
    "fig = predictions_plot.get_figure()"
   ]
  },
  {
   "cell_type": "code",
   "execution_count": null,
   "metadata": {},
   "outputs": [],
   "source": [
    "# Plotting just predict and actual average curves\n",
    "predictions_df_average = predictions_df[['average_predicted_price', 'average_actual_price']]\n",
    "predictions_plot = predictions_df_average.plot(title='Random Forest 8-2 years after aligning & smoothing')\n",
    "predictions_plot.set_xlabel(\"Dates\")\n",
    "predictions_plot.set_ylabel(\"Stock Prices\")\n",
    "fig = predictions_plot.get_figure()\n",
    "#fig.savefig(\"graphs/random forest after smoothing 2.png\")"
   ]
  },
  {
   "cell_type": "code",
   "execution_count": null,
   "metadata": {
    "collapsed": true
   },
   "outputs": [],
   "source": [
    "# Increase the prices by a constant value so that it represents closing price during the testing\n",
    "def offset_value(test_start_date, test, predictions_df):\n",
    "    temp_date = test_start_date\n",
    "    average_last_5_days_test = 0\n",
    "    average_upcoming_5_days_predicted = 0\n",
    "    total_days = 10\n",
    "    for i in range(total_days):\n",
    "        average_last_5_days_test += test.loc[temp_date, 'prices']\n",
    "        temp_date =datetime.strptime(temp_date, \"%Y-%m-%d\").date()\n",
    "        difference = temp_date + timedelta(days=1)\n",
    "        temp_date = difference.strftime('%Y-%m-%d')\n",
    "    average_last_5_days_test = average_last_5_days_test / total_days\n",
    "    \n",
    "    temp_date = test_start_date\n",
    "    for i in range(total_days):\n",
    "        average_upcoming_5_days_predicted += predictions_df.loc[temp_date, 'prices']\n",
    "        temp_date = datetime.strptime(temp_date, \"%Y-%m-%d\").date()\n",
    "        difference = temp_date + timedelta(days=1)\n",
    "        temp_date = difference.strftime('%Y-%m-%d')\n",
    "    average_upcoming_5_days_predicted = average_upcoming_5_days_predicted / total_days\n",
    "    difference_test_predicted_prices = average_last_5_days_test - average_upcoming_5_days_predicted\n",
    "    return difference_test_predicted_prices        "
   ]
  },
  {
   "cell_type": "code",
   "execution_count": null,
   "metadata": {},
   "outputs": [],
   "source": [
    "# Logistic Regression\n",
    "from treeinterpreter import treeinterpreter as ti\n",
    "from sklearn.tree import DecisionTreeRegressor\n",
    "from sklearn.ensemble import RandomForestRegressor\n",
    "from sklearn.linear_model import LogisticRegression\n",
    "from datetime import datetime, timedelta\n",
    "\n",
    "years = [2007, 2008, 2009, 2010, 2011, 2012, 2013, 2014, 2015, 2016]\n",
    "prediction_list = []\n",
    "\n",
    "for year in years:\n",
    "    train_start_date = str(year) + '-01-01'\n",
    "    train_end_date = str(year) + '-10-31'\n",
    "    test_start_date = str(year) + '-11-01'\n",
    "    test_end_date = str(year) + '-12-31'\n",
    "    train = df.loc[train_start_date: train_end_date]\n",
    "    test = df.loc[test_start_date: test_end_date]\n",
    "    \n",
    "    sentiment_score_list = []\n",
    "    for date, row in train.T.iteritems():\n",
    "        sentiment_score = np.asarray([df.loc[date, 'compound'], df.loc[date, 'neg'], df.loc[date, 'neu'], df.loc[date, 'pos']])\n",
    "        sentiment_score_list.append(sentiment_score)\n",
    "    numpy_df_train = np.asarray(sentiment_score_list)\n",
    "    sentiment_score_list = []\n",
    "    for date, row in test.T.iteritems():\n",
    "        sentiment_score = np.asarray([df.loc[date, 'compound'], df.loc[date, 'neg'], df.loc[date, 'neu'], df.loc[date, 'pos']])\n",
    "        sentiment_score_list.append(sentiment_score)\n",
    "    numpy_df_test = np.asarray(sentiment_score_list)\n",
    "\n",
    "    # Generating Models\n",
    "    lr = LogisticRegression()\n",
    "    lr.fit(numpy_df_train, train['prices'])\n",
    "\n",
    "    prediction = lr.predict(numpy_df_test)\n",
    "    prediction_list.append(prediction)\n",
    "\n",
    "    idx = pd.date_range(test_start_date, test_end_date)\n",
    "    predictions_df_list = pd.DataFrame(data=prediction[0:], index=idx, columns=['prices'])\n",
    "    difference_test_predicted_prices = offset_value(test_start_date, test, predictions_df_list)\n",
    "    # Adding offset to all the advpredictions_df price values\n",
    "    predictions_df_list['prices'] = predictions_df_list['prices'] + difference_test_predicted_prices\n",
    "    predictions_df_list\n",
    "\n",
    "    # Smoothing the plot\n",
    "    predictions_df_list['ewma'] = pd.ewma(predictions_df_list[\"prices\"], span=10, freq=\"D\")\n",
    "    predictions_df_list['actual_value'] = test['prices']\n",
    "    predictions_df_list['actual_value_ewma'] = pd.ewma(predictions_df_list[\"actual_value\"], span=10, freq=\"D\")\n",
    "\n",
    "    # Changing column names\n",
    "    predictions_df_list.columns = ['predicted_price', 'average_predicted_price', 'actual_price', 'average_actual_price']\n",
    "    predictions_df_list.plot()\n",
    "    predictions_df_list_average = predictions_df_list[['average_predicted_price', 'average_actual_price']]\n",
    "    predictions_df_list_average.plot()\n",
    "    "
   ]
  },
  {
   "cell_type": "code",
   "execution_count": null,
   "metadata": {},
   "outputs": [],
   "source": [
    "lr.coef_[1]"
   ]
  },
  {
   "cell_type": "code",
   "execution_count": null,
   "metadata": {},
   "outputs": [],
   "source": [
    "# Random Forest Regressor\n",
    "from treeinterpreter import treeinterpreter as ti\n",
    "from sklearn.tree import DecisionTreeRegressor\n",
    "from sklearn.ensemble import RandomForestRegressor\n",
    "from sklearn.linear_model import LogisticRegression\n",
    "from datetime import datetime, timedelta\n",
    "\n",
    "years = [2007, 2008, 2009, 2010, 2011, 2012, 2013, 2014, 2015, 2016]\n",
    "prediction_list = []\n",
    "\n",
    "for year in years:\n",
    "    train_start_date = str(year) + '-01-01'\n",
    "    train_end_date = str(year) + '-10-31'\n",
    "    test_start_date = str(year) + '-11-01'\n",
    "    test_end_date = str(year) + '-12-31'\n",
    "    train = df.loc[train_start_date: train_end_date]\n",
    "    test = df.loc[test_start_date: test_end_date]\n",
    "    \n",
    "    sentiment_score_list = []\n",
    "    for date, row in train.T.iteritems():\n",
    "        sentiment_score = np.asarray([df.loc[date, 'compound'], df.loc[date, 'neg'], df.loc[date, 'neu'], df.loc[date, 'pos']])\n",
    "        sentiment_score_list.append(sentiment_score)\n",
    "    numpy_df_train = np.asarray(sentiment_score_list)\n",
    "    \n",
    "    sentiment_score_list = []\n",
    "    for date, row in test.T.iteritems():\n",
    "        sentiment_score = np.asarray([df.loc[date, 'compound'], df.loc[date, 'neg'], df.loc[date, 'neu'], df.loc[date, 'pos']])\n",
    "        sentiment_score_list.append(sentiment_score)\n",
    "    numpy_df_test = np.asarray(sentiment_score_list)\n",
    "\n",
    "    # Generating Model\n",
    "    rf = RandomForestRegressor(random_state=1)\n",
    "    rf.fit(numpy_df_train, train['prices'])\n",
    "    \n",
    "    \n",
    "    prediction, bias, contributions = ti.predict(rf, numpy_df_test)\n",
    "    prediction_list.append(prediction)\n",
    "    \n",
    "    idx = pd.date_range(test_start_date, test_end_date)\n",
    "    predictions_df_list = pd.DataFrame(data=prediction[0:], index=idx, columns=['prices'])\n",
    "    \n",
    "    difference_test_predicted_prices = offset_value(test_start_date, test, predictions_df_list)\n",
    "    predictions_df_list['prices'] = predictions_df_list['prices'] + difference_test_predicted_prices\n",
    "    predictions_df_list\n",
    "    \n",
    "    predictions_df_list['ewma'] = pd.ewma(predictions_df_list[\"prices\"], span=10, freq=\"D\")\n",
    "    predictions_df_list['actual_value'] = test['prices']\n",
    "    predictions_df_list['actual_value_ewma'] = pd.ewma(predictions_df_list[\"actual_value\"], span=10, freq=\"D\")\n",
    "    \n",
    "    predictions_df_list.columns = ['predicted_price', 'average_predicted_price', 'actual_price', 'average_actual_price']\n",
    "    predictions_df_list.plot()\n",
    "    predictions_df_list_average = predictions_df_list[['average_predicted_price', 'average_actual_price']]\n",
    "    predictions_df_list_average.plot()\n",
    "    \n",
    "    \n",
    "\n",
    "\n",
    "\n",
    "\n",
    "\n",
    "\n",
    "\n",
    "\n",
    "\n",
    "\n",
    "\n",
    "\n",
    "\n"
   ]
  },
  {
   "cell_type": "code",
   "execution_count": null,
   "metadata": {},
   "outputs": [],
   "source": [
    "# MLP Classifier\n",
    "from sklearn.neural_network import MLPClassifier\n",
    "from datetime import datetime, timedelta\n",
    "\n",
    "\n",
    "# average_upcoming_5_days_predicted += predictions_df.loc[temp_date, 'prices']\n",
    "# # Converting string to date time\n",
    "# temp_date = datetime.strptime(temp_date, \"%Y-%m-%d\").date()\n",
    "# # Adding one day from date time\n",
    "# difference = temp_date + timedelta(days=1)\n",
    "# # Converting again date time to string\n",
    "# temp_date = difference.strftime('%Y-%m-%d')\n",
    "        \n",
    "# start_year = datetime.strptime(train_start_date, \"%Y-%m-%d\").date().month\n",
    "\n",
    "years = [2007, 2008, 2009, 2010, 2011, 2012, 2013, 2014, 2015, 2016]\n",
    "prediction_list = []\n",
    "for year in years:\n",
    "    # Splitting the training and testing data\n",
    "    train_start_date = str(year) + '-01-01'\n",
    "    train_end_date = str(year) + '-10-31'\n",
    "    test_start_date = str(year) + '-11-01'\n",
    "    test_end_date = str(year) + '-12-31'\n",
    "    train = df.ix[train_start_date : train_end_date]\n",
    "    test = df.ix[test_start_date:test_end_date]\n",
    "    \n",
    "    # Calculating the sentiment score\n",
    "    sentiment_score_list = []\n",
    "    for date, row in train.T.iteritems():\n",
    "        sentiment_score = np.asarray([df.loc[date, 'compound'],df.loc[date, 'neg'],df.loc[date, 'neu'],df.loc[date, 'pos']])\n",
    "        #sentiment_score = np.asarray([df.loc[date, 'neg'],df.loc[date, 'pos']])\n",
    "        sentiment_score_list.append(sentiment_score)\n",
    "    numpy_df_train = np.asarray(sentiment_score_list)\n",
    "    sentiment_score_list = []\n",
    "    for date, row in test.T.iteritems():\n",
    "        sentiment_score = np.asarray([df.loc[date, 'compound'],df.loc[date, 'neg'],df.loc[date, 'neu'],df.loc[date, 'pos']])\n",
    "        #sentiment_score = np.asarray([df.loc[date, 'neg'],df.loc[date, 'pos']])\n",
    "        sentiment_score_list.append(sentiment_score)\n",
    "    numpy_df_test = np.asarray(sentiment_score_list)\n",
    "    \n",
    "    mlpc = MLPClassifier(hidden_layer_sizes=(100, 200, 100), activation='relu', solver='lbfgs',\n",
    "                        alpha=0.005, learning_rate_init=0.001, shuffle=False)\n",
    "    mlpc.fit(numpy_df_train, train['prices'])\n",
    "    prediction = mlpc.predict(numpy_df_test)\n",
    "    \n",
    "    prediction_list.append(prediction)\n",
    "    \n",
    "    idx = pd.date_range(test_start_date, test_end_date)\n",
    "    predictions_df_list = pd.DataFrame(data=prediction[0:], index=idx, columns=['prices'])\n",
    "    \n",
    "    difference_test_predicted_prices = offset_value(test_start_date, test, predictions_df_list)\n",
    "    \n",
    "    predictions_df_list['prices'] = predictions_df_list['prices'] + difference_test_predicted_prices\n",
    "    predictions_df_list\n",
    "    \n",
    "    predictions_df_list['ewma'] = pd.ewma(predictions_df_list['prices'], span=20, freq=\"D\")\n",
    "    predictions_df_list['actual_value'] = test['prices']\n",
    "    predictions_df_list['actual_value_ewma'] = pd.ewma(predictions_df_list[\"actual_value\"], span=20, freq=\"D\")\n",
    "    \n",
    "    predictions_df_list.columns = ['predicted_price', 'average_predicted_price', 'actual_price', 'average_actual_price']\n",
    "    predictions_df_list.plot()\n",
    "    predictions_df_list_average = predictions_df_list[['average_predicted_price', 'average_actual_price']]\n",
    "    predictions_df_list_average.plot()\n",
    "    "
   ]
  },
  {
   "cell_type": "code",
   "execution_count": null,
   "metadata": {},
   "outputs": [],
   "source": [
    "mlpc = MLPClassifier(hidden_layer_sizes=(100, 200, 100), activation='tanh', solver='lbfgs',\n",
    "                   alpha=0.010, learning_rate_init=0.001, shuffle=False)\n",
    "mlpc = MLPClassifier(hidden_layer_sizes=(100, 200, 100), activation='relu', solver='lbfgs',\n",
    "                    alpha=0.010, learning_rate_init=0.001, shuffle=False)\n",
    "\n",
    "mlpc = MLPClassifier(hidden_layer_sizes=(100, 200, 100), activation='relu', solver='lbfgs',\n",
    "                    alpha=0.005, learning_rate_init=0.001, shuffle=False)\n",
    "mlpc = MLPClassifier(hidden_layer_sizes=(100, 200, 100), activation='relu', solver='lbfgs',\n",
    "                    alpha=0.005, learning_rate_init=0.001, shuffle=False)"
   ]
  },
  {
   "cell_type": "code",
   "execution_count": null,
   "metadata": {},
   "outputs": [],
   "source": [
    "# Checking the performance of training date itself\n",
    "prediction, bias, contributions = ti.predict(rf, numpy_df_train)\n",
    "idx = pd.date_range(train_start_date, train_end_date)\n",
    "predictions_df1 = pd.DataFrame(data=prediction[0:], index=idx, columns=['prices'])\n",
    "predictions_df1.plot()\n",
    "train['prices'].plot()"
   ]
  },
  {
   "cell_type": "code",
   "execution_count": null,
   "metadata": {},
   "outputs": [],
   "source": [
    "test"
   ]
  },
  {
   "cell_type": "code",
   "execution_count": null,
   "metadata": {
    "collapsed": true
   },
   "outputs": [],
   "source": []
  },
  {
   "cell_type": "code",
   "execution_count": null,
   "metadata": {
    "collapsed": true
   },
   "outputs": [],
   "source": []
  },
  {
   "cell_type": "code",
   "execution_count": null,
   "metadata": {
    "collapsed": true
   },
   "outputs": [],
   "source": []
  }
 ],
 "metadata": {
  "kernelspec": {
   "display_name": "Python 2",
   "language": "python",
   "name": "python2"
  },
  "language_info": {
   "codemirror_mode": {
    "name": "ipython",
    "version": 2
   },
   "file_extension": ".py",
   "mimetype": "text/x-python",
   "name": "python",
   "nbconvert_exporter": "python",
   "pygments_lexer": "ipython2",
   "version": "2.7.10"
  }
 },
 "nbformat": 4,
 "nbformat_minor": 2
}
