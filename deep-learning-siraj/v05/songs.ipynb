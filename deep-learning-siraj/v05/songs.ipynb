{
 "cells": [
  {
   "cell_type": "code",
   "execution_count": null,
   "metadata": {
    "collapsed": true
   },
   "outputs": [],
   "source": [
    "import pandas as pd\n",
    "import numpy as np"
   ]
  },
  {
   "cell_type": "code",
   "execution_count": null,
   "metadata": {
    "collapsed": false
   },
   "outputs": [],
   "source": [
    "# Read the annotations file\n",
    "newdata = pd.read_csv('annotations_final.csv', sep=\"\\t\")"
   ]
  },
  {
   "cell_type": "code",
   "execution_count": null,
   "metadata": {
    "collapsed": false
   },
   "outputs": [],
   "source": [
    "# display the top 5 rows\n",
    "newdata.head(5)"
   ]
  },
  {
   "cell_type": "code",
   "execution_count": null,
   "metadata": {
    "collapsed": false
   },
   "outputs": [],
   "source": [
    "# Get to know the data better\n",
    "newdata.info()"
   ]
  },
  {
   "cell_type": "code",
   "execution_count": null,
   "metadata": {
    "collapsed": false
   },
   "outputs": [],
   "source": [
    "# What columns are there?\n",
    "newdata.columns"
   ]
  },
  {
   "cell_type": "code",
   "execution_count": null,
   "metadata": {
    "collapsed": false
   },
   "outputs": [],
   "source": [
    "# Extract the clip_id and mp3_path\n",
    "newdata[[\"clip_id\", \"mp3_path\"]]"
   ]
  },
  {
   "cell_type": "code",
   "execution_count": null,
   "metadata": {
    "collapsed": false
   },
   "outputs": [],
   "source": [
    "# Previous command extracted it as a DataFrame., We need it as a matrix to do analysis on\n",
    "# Extract clip_id and mp3_path as a matrix\n",
    "clip_id, mp3_path = newdata[[\"clip_id\", \"mp3_path\"]].as_matrix()[:, 0], newdata[[\"clip_id\", \"mp3_path\"]].as_matrix()[:,1]"
   ]
  },
  {
   "cell_type": "code",
   "execution_count": null,
   "metadata": {
    "collapsed": true
   },
   "outputs": [],
   "source": [
    "# Some of the tags in the dataset are really close to each other. Lets merge them together\n",
    "synonyms = [['beat', 'beats'],\n",
    "            ['chant', 'chanting'],\n",
    "            ['choir', 'choral'],\n",
    "            ['classical', 'clasical', 'classic'],\n",
    "            ['drum', 'drums'],\n",
    "            ['electro', 'electronic', 'electronica', 'electric'],\n",
    "            ['fast', 'fast beat', 'quick'],\n",
    "            ['female', 'female singer', 'female singing', 'female vocals', 'female vocal', 'female voice', 'woman', 'woman singing', 'women'],\n",
    "            ['flute', 'flutes'],\n",
    "            ['guitar', 'guitars'],\n",
    "            ['hard', 'hard rock'],\n",
    "            ['harpsichord', 'harpsicord'],\n",
    "            ['heavy', 'heavy metal', 'metal'],\n",
    "            ['horn', 'horns'],\n",
    "            ['india', 'indian'],\n",
    "            ['jazz', 'jazzy'],\n",
    "            ['male', 'male singer', 'male vocal', 'male vocals', 'male voice', 'man', 'man singing', 'men'],\n",
    "            ['no beat', 'no drums'],\n",
    "            ['no singer', 'no singing', 'no vocal','no vocals', 'no voice', 'no voices', 'instrumental'],\n",
    "            ['opera', 'operatic'],\n",
    "            ['orchestra', 'orchestral'],\n",
    "            ['quiet', 'silence'],\n",
    "            ['singer', 'singing'],\n",
    "            ['space', 'spacey'],\n",
    "            ['string', 'strings'],\n",
    "            ['synth', 'synthesizer'],\n",
    "            ['violin', 'violins'],\n",
    "            ['vocal', 'vocals', 'voice', 'voices'],\n",
    "            ['strange', 'weird']]"
   ]
  },
  {
   "cell_type": "code",
   "execution_count": null,
   "metadata": {
    "collapsed": true
   },
   "outputs": [],
   "source": [
    "# Merge the synonyms and drop all other columns than the first one\n",
    "\"\"\"\n",
    "Example:\n",
    "Merge 'beat', \"beats\", and save it to beat.\n",
    "Merge 'Classical', 'clasical', 'classic' and save it to 'classical'\n",
    "\"\"\"\n",
    "\n",
    "for synonym_list in synonyms:\n",
    "    newdata[synonym_list[0]] = newdata[synonym_list].max(axis=1)\n",
    "    newdata.drop(synonym_list[1:], axis=1, inplace=True)"
   ]
  },
  {
   "cell_type": "code",
   "execution_count": null,
   "metadata": {
    "collapsed": false
   },
   "outputs": [],
   "source": [
    "# Did it work?\n",
    "newdata.info()"
   ]
  },
  {
   "cell_type": "code",
   "execution_count": null,
   "metadata": {
    "collapsed": false
   },
   "outputs": [],
   "source": [
    "# Lets view it\n",
    "newdata.head()"
   ]
  },
  {
   "cell_type": "code",
   "execution_count": null,
   "metadata": {
    "collapsed": true
   },
   "outputs": [],
   "source": [
    "# Drop the mp3_path tag from the dataframe\n",
    "newdata.drop('mp3_path', axis=1, inplace=True)\n",
    "# Save the column names into variable\n",
    "data = newdata.sum(axis=0)"
   ]
  },
  {
   "cell_type": "code",
   "execution_count": null,
   "metadata": {
    "collapsed": false
   },
   "outputs": [],
   "source": [
    "# find the distribution of tags\n",
    "data"
   ]
  },
  {
   "cell_type": "code",
   "execution_count": null,
   "metadata": {
    "collapsed": true
   },
   "outputs": [],
   "source": [
    "# Sort the column names\n",
    "data.sort_values(axis=0, inplace=True)"
   ]
  },
  {
   "cell_type": "code",
   "execution_count": null,
   "metadata": {
    "collapsed": false
   },
   "outputs": [],
   "source": [
    "# Find the top tags from the dataframe\n",
    "topindex, topvalues = list(data.index[84:]), data.values[84:]\n",
    "del(topindex[-1])\n",
    "topvalues = np.delete(topvalues, -1)"
   ]
  },
  {
   "cell_type": "code",
   "execution_count": null,
   "metadata": {
    "collapsed": false
   },
   "outputs": [],
   "source": [
    "# Get the top column names\n",
    "topindex"
   ]
  },
  {
   "cell_type": "code",
   "execution_count": null,
   "metadata": {
    "collapsed": false
   },
   "outputs": [],
   "source": [
    "# Get only the top column values\n",
    "topvalues"
   ]
  },
  {
   "cell_type": "code",
   "execution_count": null,
   "metadata": {
    "collapsed": true
   },
   "outputs": [],
   "source": [
    "# Get a list of columns to remove\n",
    "rem_cols = data.index[:84]"
   ]
  },
  {
   "cell_type": "code",
   "execution_count": null,
   "metadata": {
    "collapsed": false
   },
   "outputs": [],
   "source": [
    "# Cross-check: How many columns are we removing?\n",
    "len(rem_cols)"
   ]
  },
  {
   "cell_type": "code",
   "execution_count": null,
   "metadata": {
    "collapsed": true
   },
   "outputs": [],
   "source": [
    "# Drop the columns that needs to be removed\n",
    "newdata.drop(rem_cols, axis=1, inplace=True)"
   ]
  },
  {
   "cell_type": "code",
   "execution_count": null,
   "metadata": {
    "collapsed": false
   },
   "outputs": [],
   "source": [
    "newdata.info()"
   ]
  },
  {
   "cell_type": "code",
   "execution_count": null,
   "metadata": {
    "collapsed": true
   },
   "outputs": [],
   "source": [
    "# Create a backuo of the dataframe\n",
    "backup_newdata = newdata"
   ]
  },
  {
   "cell_type": "code",
   "execution_count": null,
   "metadata": {
    "collapsed": true
   },
   "outputs": [],
   "source": [
    "# Use this to revive the dataframe newdata = backup_newdata\n",
    "# Shuffle the dataframe\n",
    "from sklearn.utils import shuffle\n",
    "newdata = shuffle(newdata)"
   ]
  },
  {
   "cell_type": "code",
   "execution_count": null,
   "metadata": {
    "collapsed": false
   },
   "outputs": [],
   "source": [
    "#This method may be used to shuffle data \n",
    "# By setting frac=1, you ll shuffle every single row randomly,newdata = newdata.sample(frac=1).reset_index(drop=True)\n",
    "newdata.reset_index(drop=True)"
   ]
  },
  {
   "cell_type": "code",
   "execution_count": null,
   "metadata": {
    "collapsed": false
   },
   "outputs": [],
   "source": [
    "# One final check\n",
    "newdata.info()"
   ]
  },
  {
   "cell_type": "code",
   "execution_count": null,
   "metadata": {
    "collapsed": true
   },
   "outputs": [],
   "source": [
    "# Let us save the final columns\n",
    "final_columns_names = list(newdata.columns)"
   ]
  },
  {
   "cell_type": "code",
   "execution_count": null,
   "metadata": {
    "collapsed": true
   },
   "outputs": [],
   "source": [
    "# Do it only once to delete the clip_id column\n",
    "del(final_columns_names[0])"
   ]
  },
  {
   "cell_type": "code",
   "execution_count": null,
   "metadata": {
    "collapsed": false
   },
   "outputs": [],
   "source": [
    "# Verified\n",
    "final_columns_names"
   ]
  },
  {
   "cell_type": "code",
   "execution_count": null,
   "metadata": {
    "collapsed": true
   },
   "outputs": [],
   "source": []
  },
  {
   "cell_type": "code",
   "execution_count": null,
   "metadata": {
    "collapsed": true
   },
   "outputs": [],
   "source": []
  },
  {
   "cell_type": "code",
   "execution_count": null,
   "metadata": {
    "collapsed": true
   },
   "outputs": [],
   "source": []
  },
  {
   "cell_type": "code",
   "execution_count": null,
   "metadata": {
    "collapsed": true
   },
   "outputs": [],
   "source": [
    "\n",
    "\n",
    "\n",
    "\n",
    "\n",
    "\n",
    "\n",
    "\n",
    "\n",
    "\n",
    "\n",
    "\n",
    "\n",
    "\n",
    "\n",
    "\n",
    "\n",
    "\n",
    "\n",
    "\n",
    "\n",
    "\n",
    "\n",
    "\n",
    "\n",
    "\n",
    "\n",
    "\n",
    "\n",
    "\n",
    "\n",
    "\n",
    "\n"
   ]
  }
 ],
 "metadata": {
  "kernelspec": {
   "display_name": "Python 2",
   "language": "python",
   "name": "python2"
  },
  "language_info": {
   "codemirror_mode": {
    "name": "ipython",
    "version": 2
   },
   "file_extension": ".py",
   "mimetype": "text/x-python",
   "name": "python",
   "nbconvert_exporter": "python",
   "pygments_lexer": "ipython2",
   "version": "2.7.10"
  }
 },
 "nbformat": 4,
 "nbformat_minor": 2
}
